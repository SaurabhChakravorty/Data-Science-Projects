{
 "cells": [
  {
   "cell_type": "markdown",
   "metadata": {},
   "source": [
    "# Simulation : Robots vs Dinosaurs\n",
    "\n",
    "\n",
    "## Motivation\n",
    "The primary purpose in this challenge is to create simulation in a __feature space__ for agents to act. For completing this challenge Python 3.0 is used along with the simulation class function."
   ]
  },
  {
   "cell_type": "code",
   "execution_count": 1,
   "metadata": {},
   "outputs": [],
   "source": [
    "# import libraries\n",
    "import numpy as np\n",
    "from flask import Flask, request\n",
    "from flask_restful import Resource, Api"
   ]
  },
  {
   "cell_type": "markdown",
   "metadata": {},
   "source": [
    "## Methodology\n",
    "The `methodology` followed here involves the following:\n",
    "\n",
    "1. Creating a simulation space of matrix where arbitrarily position is marked with coordinates.\n",
    "2. We set or mark the robot with a 1.0 label and dino with a 2.0 label.\n",
    "3. The class function contains modules where we call these methods to instruct in simulation.\n",
    "4. For each module we have created test cases and edge test cases.\n",
    "5. We have converted this simulation to Rest API using Flask\n",
    "6. The code is published in Github in this [link](https://github.com/SaurabhChakravorty/Data-Science-Projects/upload/master/Interview_Case_Studies) by the problem statement present [here](https://github.com/devsbb/grover-engineering-recruitment/blob/master/challenges/robots-vs-dinos/ASSIGNMENT.md)."
   ]
  },
  {
   "cell_type": "code",
   "execution_count": 2,
   "metadata": {},
   "outputs": [],
   "source": [
    "class simulation:\n",
    "    '''\n",
    "    This class contains all the modules or methods for the simulation process\n",
    "    '''\n",
    "    \n",
    "    def __init__(self, sample_size = 50):\n",
    "        # create an numpy array of fixed size\n",
    "        self.env = np.zeros((sample_size, sample_size))\n",
    "        \n",
    "        # intitialising the position of robot and dino\n",
    "        self.robot = (0,0)\n",
    "        self.env[self.robot] = 1.0 \n",
    "        \n",
    "        self.dino  = (1,1)\n",
    "        self.env[self.dino] = 2.0 \n",
    "        \n",
    "        # for storing the location of \"kill\" of robot\n",
    "        self.kill = []\n",
    "        \n",
    "    def agent_position(self, agent = \"robot\", position = (0,0)):     \n",
    "        # changing the state based on condition\n",
    "        if agent == \"robot\":\n",
    "            env = self.robot\n",
    "            mark = 1.0         \n",
    "        else:\n",
    "            env = self.dino\n",
    "            mark = 2.0\n",
    "            \n",
    "        # assigning the position to agent \n",
    "        if self.__check_position__(position) and self.env[position] == 0.0 :\n",
    "            self.env[env] = 0.0                      # setting the initial pos to 0.0\n",
    "            if agent == \"robot\":\n",
    "                self.robot = position\n",
    "            else:\n",
    "                self.dino = position\n",
    "            self.env[position] = mark                # assigning Robot pos as 1.0 if condition is met          \n",
    "        else:\n",
    "            print(\"The position of {} cannot be updated in feature space\".format(agent))    \n",
    "            \n",
    "    def move_robot(self, direction = \"left\"):\n",
    "         # for moving the 'Robot' agent in simulation space\n",
    "         if direction == 'left':\n",
    "            self.robot = (self.robot[0] - 1, self.robot[1])\n",
    "            \n",
    "         if direction == 'right':\n",
    "            self.robot = (self.robot[0] + 1, self.robot[1])\n",
    "            \n",
    "         if direction == 'top':\n",
    "            self.robot = (self.robot[0], self.robot[1] + 1)\n",
    "                          \n",
    "         if direction == 'bottom':\n",
    "            self.robot = (self.robot[0], self.robot[1] - 1)\n",
    "       \n",
    "         # check position and store the space\n",
    "         self.agent_position(agent = \"robot\", position = self.robot)\n",
    "         self.__display_position__()\n",
    "            \n",
    "    def attack_dino(self): \n",
    "        # attack in vicinity\n",
    "        if np.abs(self.robot[0] - self.dino[0]) == 1 or np.abs(self.robot[1] - self.dino[1]) == 1 :\n",
    "            self.robot = self.dino          # update the position\n",
    "            self.env[self.robot] = 1.0     \n",
    "\n",
    "            self.kill.append(self.robot)    # position where the kill happened\n",
    "            self.dino = (0,0)               # initial pos again\n",
    "        \n",
    "            print(\"The dinosaur is killed at position {} and position of dinosaur is set to (0,0)\".format(self.robot))\n",
    "        else:\n",
    "            print(\"We can't kill the dinosaur as it is far...\")\n",
    "                    \n",
    "                    \n",
    "    def __display_position__(self):\n",
    "        # for displaying the positions of Dino and Robot\n",
    "        print(\"The position of Robot is {} and position of Dinosaur is {}\".format(self.robot, self.dino))\n",
    "    \n",
    "    \n",
    "    def __check_position__(self, pos):\n",
    "        # for checking the position in feature space\n",
    "        if (0 <= pos[0] < self.env.shape[0]) and (0 <= pos[1] < self.env.shape[1]):\n",
    "            return True\n",
    "        else:\n",
    "            return False"
   ]
  },
  {
   "cell_type": "markdown",
   "metadata": {},
   "source": [
    "## Simulation Test cases\n",
    "\n",
    "### Simple Test Cases"
   ]
  },
  {
   "cell_type": "code",
   "execution_count": 3,
   "metadata": {},
   "outputs": [],
   "source": [
    "# empty simulation space\n",
    "s = simulation(sample_size=50)\n",
    "\n",
    "# mark 'Robot' position\n",
    "s.agent_position(agent = \"robot\", position = (14, 2))\n",
    "\n",
    "# mark 'Dinosaur' position\n",
    "s.agent_position(agent = \"dinosaur\", position = (15, 2))"
   ]
  },
  {
   "cell_type": "code",
   "execution_count": 4,
   "metadata": {},
   "outputs": [
    {
     "name": "stdout",
     "output_type": "stream",
     "text": [
      "The position of Robot is (14, 3) and position of Dinosaur is (15, 2)\n"
     ]
    }
   ],
   "source": [
    "# check if robot is moving\n",
    "s.move_robot(direction = \"top\")"
   ]
  },
  {
   "cell_type": "code",
   "execution_count": 5,
   "metadata": {},
   "outputs": [
    {
     "name": "stdout",
     "output_type": "stream",
     "text": [
      "The dinosaur is killed at position (15, 2) and position of dinosaur is set to (0,0)\n"
     ]
    }
   ],
   "source": [
    "# kill the \"dino\"\n",
    "s.attack_dino()"
   ]
  },
  {
   "cell_type": "code",
   "execution_count": 6,
   "metadata": {},
   "outputs": [
    {
     "name": "stdout",
     "output_type": "stream",
     "text": [
      "The position of Robot is (15, 2) and position of Dinosaur is (0, 0)\n"
     ]
    }
   ],
   "source": [
    "# display the current state\n",
    "s.__display_position__()"
   ]
  },
  {
   "cell_type": "markdown",
   "metadata": {},
   "source": [
    "### Edge Cases"
   ]
  },
  {
   "cell_type": "code",
   "execution_count": 7,
   "metadata": {},
   "outputs": [
    {
     "name": "stdout",
     "output_type": "stream",
     "text": [
      "The position of dinosaur cannot be updated in feature space\n"
     ]
    }
   ],
   "source": [
    "# check whether we can put the \"robot\" and \"dinosaur\" in same state\n",
    "# mark 'Robot' position\n",
    "s.agent_position(agent = \"robot\", position = (25, 25))\n",
    "\n",
    "# mark 'Dinosaur' position\n",
    "s.agent_position(agent = \"dinosaur\", position = (25, 25))"
   ]
  },
  {
   "cell_type": "markdown",
   "metadata": {},
   "source": [
    "> We see as the \"Robot\" is in that poisition previously we cant update it simultaneously"
   ]
  },
  {
   "cell_type": "code",
   "execution_count": 8,
   "metadata": {},
   "outputs": [
    {
     "name": "stdout",
     "output_type": "stream",
     "text": [
      "The position of robot cannot be updated in feature space\n"
     ]
    }
   ],
   "source": [
    "# check whether we can put the \"robot\" and \"dinosaur\" in same state\n",
    "# mark 'Robot' position\n",
    "s.agent_position(agent = \"robot\", position = (25, 50))\n",
    "\n",
    "# mark 'Dinosaur' position\n",
    "s.agent_position(agent = \"dinosaur\", position = (15, 25))"
   ]
  },
  {
   "cell_type": "code",
   "execution_count": 9,
   "metadata": {},
   "outputs": [
    {
     "name": "stdout",
     "output_type": "stream",
     "text": [
      "We can't kill the dinosaur as it is far...\n"
     ]
    }
   ],
   "source": [
    "# kill the \"dino\"\n",
    "s.attack_dino()"
   ]
  },
  {
   "cell_type": "markdown",
   "metadata": {},
   "source": [
    "## Implementation using REST API\n",
    "\n",
    "We will be using __Flask__ for REST API implementation. The request will go in the form of http POST request. "
   ]
  },
  {
   "cell_type": "code",
   "execution_count": 10,
   "metadata": {},
   "outputs": [],
   "source": [
    "from flask import Flask, request\n",
    "from flask_restful import Resource, Api\n",
    "from main_code import simulation"
   ]
  },
  {
   "cell_type": "code",
   "execution_count": 11,
   "metadata": {},
   "outputs": [
    {
     "name": "stdout",
     "output_type": "stream",
     "text": [
      " * Serving Flask app \"__main__\" (lazy loading)\n",
      " * Environment: production\n",
      "   WARNING: Do not use the development server in a production environment.\n",
      "   Use a production WSGI server instead.\n",
      " * Debug mode: on\n"
     ]
    },
    {
     "name": "stderr",
     "output_type": "stream",
     "text": [
      " * Restarting with windowsapi reloader\n"
     ]
    },
    {
     "ename": "SystemExit",
     "evalue": "1",
     "output_type": "error",
     "traceback": [
      "An exception has occurred, use %tb to see the full traceback.\n",
      "\u001b[1;31mSystemExit\u001b[0m\u001b[1;31m:\u001b[0m 1\n"
     ]
    },
    {
     "name": "stderr",
     "output_type": "stream",
     "text": [
      "C:\\Users\\Saurabh\\Anaconda3\\lib\\site-packages\\IPython\\core\\interactiveshell.py:3304: UserWarning: To exit: use 'exit', 'quit', or Ctrl-D.\n",
      "  warn(\"To exit: use 'exit', 'quit', or Ctrl-D.\", stacklevel=1)\n"
     ]
    }
   ],
   "source": [
    "# initialise the flask\n",
    "app = Flask(__name__)\n",
    "api = Api(app)\n",
    "\n",
    "class test_cases(Resource):\n",
    "    def __init__(self, sample_size = 50, robot_pos = (14, 2) , dino_pos = (15, 2) , direction = \"top\"):\n",
    "        # make it class variables\n",
    "        self.sample_size = sample_size\n",
    "        self.robot_pos   = robot_pos\n",
    "        self.dino_pos    = dino_pos\n",
    "        self.direction   = direction\n",
    "    \n",
    "    def get(self):\n",
    "        # empty simulation space\n",
    "        s = simulation(sample_size=self.sample_size)\n",
    "\n",
    "        # mark 'Robot' position\n",
    "        s.agent_position(agent = \"robot\", position = self.robot_pos)\n",
    "\n",
    "        # mark 'Dinosaur' position\n",
    "        s.agent_position(agent = \"dinosaur\", position = self.dino_pos)\n",
    "        \n",
    "        # check if robot is moving\n",
    "        s.move_robot(direction = self.direction)\n",
    "        \n",
    "        # kill the \"dino\"\n",
    "        s.attack_dino()\n",
    "        \n",
    "        # display the current state\n",
    "        s.__display_position__()\n",
    "              \n",
    "api.add_resource(test_cases, '/')\n",
    "\n",
    "if __name__ == '__main__':\n",
    "    app.run(debug=True)"
   ]
  },
  {
   "cell_type": "code",
   "execution_count": null,
   "metadata": {},
   "outputs": [],
   "source": []
  }
 ],
 "metadata": {
  "kernelspec": {
   "display_name": "Python 3",
   "language": "python",
   "name": "python3"
  },
  "language_info": {
   "codemirror_mode": {
    "name": "ipython",
    "version": 3
   },
   "file_extension": ".py",
   "mimetype": "text/x-python",
   "name": "python",
   "nbconvert_exporter": "python",
   "pygments_lexer": "ipython3",
   "version": "3.7.3"
  }
 },
 "nbformat": 4,
 "nbformat_minor": 4
}
