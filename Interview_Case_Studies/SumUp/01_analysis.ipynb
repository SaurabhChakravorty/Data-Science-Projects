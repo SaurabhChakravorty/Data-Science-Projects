{
 "cells": [
  {
   "cell_type": "markdown",
   "id": "d8394205",
   "metadata": {},
   "source": [
    "## EDA and Analysis"
   ]
  },
  {
   "cell_type": "code",
   "execution_count": null,
   "id": "a9eff61c",
   "metadata": {},
   "outputs": [],
   "source": [
    "# load script\n",
    "%load_ext autoreload\n",
    "%autoreload 2\n",
    "!pip install -r requirements.txt"
   ]
  },
  {
   "cell_type": "code",
   "execution_count": null,
   "id": "0e5c04a2",
   "metadata": {},
   "outputs": [],
   "source": [
    "import main\n",
    "import pandas as pd\n",
    "import numpy as np\n",
    "import plotly.express as px"
   ]
  },
  {
   "cell_type": "code",
   "execution_count": null,
   "id": "529fc7f1",
   "metadata": {},
   "outputs": [],
   "source": [
    "## read the file\n",
    "df = pd.read_csv(\"touchpoints_data.csv\").drop_duplicates()\n",
    "print(df.shape)"
   ]
  },
  {
   "cell_type": "code",
   "execution_count": null,
   "id": "0282e261",
   "metadata": {},
   "outputs": [],
   "source": [
    "summary = pd.DataFrame({\n",
    "    'Data Type': df.dtypes,\n",
    "    'Missing (%)': df.isnull().mean() * 100,\n",
    "    'Unique Values': df.nunique(),\n",
    "    #'Non-Null Count': df.count(),\n",
    "    'Memory Usage (MB)': df.memory_usage(deep=True) / (1024**2)\n",
    "})\n",
    "summary"
   ]
  },
  {
   "cell_type": "markdown",
   "id": "8cbd664c",
   "metadata": {},
   "source": [
    "### Understand the columns\n",
    "\n",
    "- `user_id`: Unique identifier per user (integer).\n",
    "\n",
    "- `timestamp`: Interaction timestamp (currently a string; will convert to datetime).\n",
    "\n",
    "- `channel`: Marketing channel (categorical).   --> 7 channels present here\n",
    "\n",
    "- `converted`: Binary indicator for conversion (0 or 1).\n",
    "\n",
    "***We will deal with these missing values later***\n",
    "- `utm_medium`: Marketing medium (some missing values).\n",
    "\n",
    "- `utm_source`: Traffic source (some missing values).\n",
    "\n",
    "- `utm_campaign`: Campaign identifier (some missing values).\n",
    "\n",
    "- `device_type`: User device category (categorical)."
   ]
  },
  {
   "cell_type": "code",
   "execution_count": null,
   "id": "a1c17c63",
   "metadata": {},
   "outputs": [],
   "source": [
    "# Convert timestamp to datetime\n",
    "df['timestamp'] = pd.to_datetime(df['timestamp'])"
   ]
  },
  {
   "cell_type": "markdown",
   "id": "0bbead52",
   "metadata": {},
   "source": [
    "### EDA"
   ]
  },
  {
   "cell_type": "code",
   "execution_count": null,
   "id": "1abf68d8",
   "metadata": {},
   "outputs": [],
   "source": [
    "# extracting only channel level information\n",
    "X = df.sort_values(['user_id','timestamp']).reset_index(drop=True)"
   ]
  },
  {
   "cell_type": "markdown",
   "id": "64e01016",
   "metadata": {},
   "source": [
    "> For understanding the average time and touchpoints to conversion we will only take onto those values where we realise the converison happened. Rest touchpoints can be analysed seperately for the behaviour of user data."
   ]
  },
  {
   "cell_type": "code",
   "execution_count": null,
   "id": "0e788dde",
   "metadata": {},
   "outputs": [],
   "source": [
    "def assign_touchpoints_with_reset(df):\n",
    "    df = df.sort_values(by=['user_id', 'timestamp'])  # make sure data is ordered\n",
    "    tp_numbers = []\n",
    "    counter = {}\n",
    "    \n",
    "    for i, row in df.iterrows():\n",
    "        user = row['user_id']\n",
    "        if user not in counter:\n",
    "            counter[user] = 1\n",
    "        tp_numbers.append(counter[user])\n",
    "\n",
    "        if row['converted'] == 1:\n",
    "            counter[user] = 1  # reset after conversion\n",
    "        else:\n",
    "            counter[user] += 1\n",
    "\n",
    "    df['touchpoint_number'] = tp_numbers\n",
    "    return df"
   ]
  },
  {
   "cell_type": "code",
   "execution_count": null,
   "id": "9b85fc3e",
   "metadata": {},
   "outputs": [],
   "source": [
    "# Apply to your X_final DataFrame\n",
    "X = assign_touchpoints_with_reset(X)"
   ]
  },
  {
   "cell_type": "code",
   "execution_count": null,
   "id": "c7cace5d",
   "metadata": {},
   "outputs": [],
   "source": [
    "# get to join conversion time\n",
    "X = X.merge( X[X['converted'] == 1][['user_id', 'timestamp']]\n",
    "    .rename(columns={'timestamp': 'conversion_datetime'}), on='user_id', how='left')\n"
   ]
  },
  {
   "cell_type": "code",
   "execution_count": null,
   "id": "3dbb8dac",
   "metadata": {},
   "outputs": [],
   "source": [
    "\n",
    "# only take those converted values to verify\n",
    "X_converted = X[X['timestamp'] <= X['conversion_datetime']].reset_index(drop=True)\n",
    "\n",
    "# get conversion time\n",
    "X_converted['time_to_conversion_days'] = (X_converted['conversion_datetime'] - X_converted['timestamp']).dt.total_seconds() / (60*60*24)\n"
   ]
  },
  {
   "cell_type": "markdown",
   "id": "2a6b871c",
   "metadata": {},
   "source": [
    "### EDA"
   ]
  },
  {
   "cell_type": "code",
   "execution_count": null,
   "id": "a9f7c1ce",
   "metadata": {},
   "outputs": [],
   "source": [
    "# Group and aggregate\n",
    "## Removed converted as they will have converison days \"0\" in any case\n",
    "grouped = X_converted[X_converted['converted'] == 0].groupby(['channel', 'utm_campaign', 'device_type'])['time_to_conversion_days'].median().reset_index()\n",
    "\n",
    "# Plotly interactive bar chart\n",
    "fig = px.bar(\n",
    "    grouped,\n",
    "    x='channel',\n",
    "    y='time_to_conversion_days',\n",
    "    color='device_type',\n",
    "    hover_data=['utm_campaign'],\n",
    "    title='Median Time to Conversion',\n",
    "    labels={'time_to_conversion_days': 'Median Time to Conversion (Days)'},\n",
    "    barmode='group'\n",
    ")\n",
    "fig.update_layout(xaxis_tickangle=-45)\n",
    "fig.show()\n"
   ]
  },
  {
   "cell_type": "code",
   "execution_count": null,
   "id": "7ee31909",
   "metadata": {},
   "outputs": [],
   "source": [
    "# Group and aggregate: only converted users\n",
    "grouped_tp = X_converted.groupby(\n",
    "    ['channel', 'utm_campaign', 'device_type']\n",
    ")['touchpoint_number'].median().reset_index()\n",
    "\n",
    "# Plotly interactive bar chart\n",
    "fig_tp = px.bar(\n",
    "    grouped_tp,\n",
    "    x='channel',\n",
    "    y='touchpoint_number',\n",
    "    color='device_type',\n",
    "    hover_data=['utm_campaign'],\n",
    "    title='Median Touchpoint of Conversion',\n",
    "    labels={'touchpoint_number': 'Median Touchpoint Number'},\n",
    "    barmode='group'\n",
    ")\n",
    "\n",
    "fig_tp.update_layout(xaxis_tickangle=-45)\n",
    "fig_tp.show()"
   ]
  },
  {
   "cell_type": "markdown",
   "id": "6f11cb49",
   "metadata": {},
   "source": [
    "<div style=\"border-radius: 6px; background-color: #D9EDF7; padding: 10px; border: 1px solid #BCE8F1;\">\n",
    "    \n",
    "  <strong>Observation:</strong> As observed here, across the distribution of channels __\"Paid search\"__ takes significant more time for conversion. The behavior of user across channel remains constant overall.\n",
    "    \n",
    "</div>"
   ]
  },
  {
   "cell_type": "markdown",
   "id": "b9b09504",
   "metadata": {},
   "source": [
    "### Data Preparation\n",
    "\n",
    "For those touchpoints ordered by timestamp where even after interactions there has been no purchase made we will analyse the attributions. This is named as the __test set__."
   ]
  },
  {
   "cell_type": "code",
   "execution_count": null,
   "id": "667bd3ca",
   "metadata": {},
   "outputs": [],
   "source": [
    "# use the touchpoints who have not converted as test points\n",
    "X_notconverted = X[X['timestamp'] > X['conversion_datetime']].reset_index(drop=True)"
   ]
  },
  {
   "cell_type": "code",
   "execution_count": null,
   "id": "def0345b",
   "metadata": {},
   "outputs": [],
   "source": [
    "# write it\n",
    "X_converted.to_csv(\"train.csv\")\n",
    "X_notconverted.drop(columns = ['conversion_datetime']).to_csv(\"test.csv\")"
   ]
  }
 ],
 "metadata": {
  "kernelspec": {
   "display_name": "Python 3 (ipykernel)",
   "language": "python",
   "name": "python3"
  },
  "language_info": {
   "codemirror_mode": {
    "name": "ipython",
    "version": 3
   },
   "file_extension": ".py",
   "mimetype": "text/x-python",
   "name": "python",
   "nbconvert_exporter": "python",
   "pygments_lexer": "ipython3",
   "version": "3.9.12"
  }
 },
 "nbformat": 4,
 "nbformat_minor": 5
}
